{
 "cells": [
  {
   "cell_type": "markdown",
   "id": "6ab0dcd7-1874-4e39-88a1-9988389c39ce",
   "metadata": {},
   "source": [
    "\n",
    "## Dataset\n",
    "The used dataset is the [Sentiment polarity datasets v2.0](http://www.cs.cornell.edu/people/pabo/movie-review-data/). The dataset contains 1000 positive and 1000 negative processed reviews. \n",
    "\n",
    "Before you start, double check that you have the following folder in the same directory as this Jupyter Notebook:\n",
    "- the `review_polarity` folder.\n",
    "\n",
    "Inside the folder there is a readme file `poldata.README.2.0` which stores all the meta information of this dataset. "
   ]
  }
 ],
 "metadata": {
  "kernelspec": {
   "display_name": "Python 3 (ipykernel)",
   "language": "python",
   "name": "python3"
  },
  "language_info": {
   "codemirror_mode": {
    "name": "ipython",
    "version": 3
   },
   "file_extension": ".py",
   "mimetype": "text/x-python",
   "name": "python",
   "nbconvert_exporter": "python",
   "pygments_lexer": "ipython3",
   "version": "3.9.19"
  }
 },
 "nbformat": 4,
 "nbformat_minor": 5
}
